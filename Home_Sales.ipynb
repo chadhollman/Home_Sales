{
  "cells": [
    {
      "cell_type": "code",
      "execution_count": null,
      "metadata": {
        "colab": {
          "base_uri": "https://localhost:8080/"
        },
        "id": "a_KW73O2e3dw",
        "outputId": "8557a2ce-6220-47e1-94e4-774bc564b284"
      },
      "outputs": [
        {
          "output_type": "stream",
          "name": "stdout",
          "text": [
            "Hit:1 https://cloud.r-project.org/bin/linux/ubuntu jammy-cran40/ InRelease\n",
            "Hit:2 https://r2u.stat.illinois.edu/ubuntu jammy InRelease\n",
            "Hit:3 http://security.ubuntu.com/ubuntu jammy-security InRelease\n",
            "Hit:4 https://developer.download.nvidia.com/compute/cuda/repos/ubuntu2204/x86_64  InRelease\n",
            "Hit:5 http://archive.ubuntu.com/ubuntu jammy InRelease\n",
            "Hit:6 http://archive.ubuntu.com/ubuntu jammy-updates InRelease\n",
            "Hit:7 http://archive.ubuntu.com/ubuntu jammy-backports InRelease\n",
            "Hit:8 https://ppa.launchpadcontent.net/deadsnakes/ppa/ubuntu jammy InRelease\n",
            "Hit:9 https://ppa.launchpadcontent.net/graphics-drivers/ppa/ubuntu jammy InRelease\n",
            "Hit:10 https://ppa.launchpadcontent.net/ubuntugis/ppa/ubuntu jammy InRelease\n",
            "Reading package lists... Done\n",
            "W: Skipping acquire of configured file 'main/source/Sources' as repository 'https://r2u.stat.illinois.edu/ubuntu jammy InRelease' does not seem to provide it (sources.list entry misspelt?)\n"
          ]
        }
      ],
      "source": [
        "import os\n",
        "# Find the latest version of spark 3.x  from http://www.apache.org/dist/spark/ and enter as the spark version\n",
        "# For example:\n",
        "# spark_version = 'spark-3.4.0'\n",
        "spark_version = 'spark-3.4.4'\n",
        "os.environ['SPARK_VERSION']=spark_version\n",
        "\n",
        "# Install Spark and Java\n",
        "!apt-get update\n",
        "!apt-get install openjdk-11-jdk-headless -qq > /dev/null\n",
        "!wget -q http://www.apache.org/dist/spark/$SPARK_VERSION/$SPARK_VERSION-bin-hadoop3.tgz\n",
        "!tar xf $SPARK_VERSION-bin-hadoop3.tgz\n",
        "!pip install -q findspark\n",
        "\n",
        "# Set Environment Variables\n",
        "os.environ[\"JAVA_HOME\"] = \"/usr/lib/jvm/java-11-openjdk-amd64\"\n",
        "os.environ[\"SPARK_HOME\"] = f\"/content/{spark_version}-bin-hadoop3\"\n",
        "\n",
        "# Start a SparkSession\n",
        "import findspark\n",
        "findspark.init()"
      ]
    },
    {
      "cell_type": "code",
      "execution_count": null,
      "metadata": {
        "id": "2XbWNf1Te5fM"
      },
      "outputs": [],
      "source": [
        "# Import packages\n",
        "from pyspark.sql import SparkSession\n",
        "import time\n",
        "\n",
        "# Create a SparkSession\n",
        "spark = SparkSession.builder.appName(\"SparkSQL\").getOrCreate()"
      ]
    },
    {
      "cell_type": "code",
      "execution_count": null,
      "metadata": {
        "id": "wOJqxG_RPSwp"
      },
      "outputs": [],
      "source": [
        "# 1. Read in the AWS S3 bucket into a DataFrame.\n",
        "from pyspark import SparkFiles\n",
        "url = \"https://2u-data-curriculum-team.s3.amazonaws.com/dataviz-classroom/v1.2/22-big-data/home_sales_revised.csv\"\n",
        "\n",
        "spark.sparkContext.addFile(url)\n",
        "\n",
        "df = spark.read.csv(SparkFiles.get(\"home_sales_revised.csv\"), sep=\",\", header=True)\n"
      ]
    },
    {
      "cell_type": "code",
      "execution_count": null,
      "metadata": {
        "id": "RoljcJ7WPpnm",
        "colab": {
          "base_uri": "https://localhost:8080/"
        },
        "outputId": "173cebe1-0d67-4137-ceee-324b37449008"
      },
      "outputs": [
        {
          "output_type": "stream",
          "name": "stdout",
          "text": [
            "+--------------------+----------+----------+------+--------+---------+-----------+--------+------+----------+----+\n",
            "|                  id|      date|date_built| price|bedrooms|bathrooms|sqft_living|sqft_lot|floors|waterfront|view|\n",
            "+--------------------+----------+----------+------+--------+---------+-----------+--------+------+----------+----+\n",
            "|f8a53099-ba1c-47d...|2022-04-08|      2016|936923|       4|        3|       3167|   11733|     2|         1|  76|\n",
            "|7530a2d8-1ae3-451...|2021-06-13|      2013|379628|       2|        2|       2235|   14384|     1|         0|  23|\n",
            "|43de979c-0bf0-4c9...|2019-04-12|      2014|417866|       2|        2|       2127|   10575|     2|         0|   0|\n",
            "|b672c137-b88c-48b...|2019-10-16|      2016|239895|       2|        2|       1631|   11149|     2|         0|   0|\n",
            "|e0726d4d-d595-407...|2022-01-08|      2017|424418|       3|        2|       2249|   13878|     2|         0|   4|\n",
            "+--------------------+----------+----------+------+--------+---------+-----------+--------+------+----------+----+\n",
            "only showing top 5 rows\n",
            "\n"
          ]
        }
      ],
      "source": [
        "# 2. Create a temporary view of the DataFrame.\n",
        "df.show(5)\n"
      ]
    },
    {
      "cell_type": "code",
      "execution_count": null,
      "metadata": {
        "id": "L6fkwOeOmqvq",
        "colab": {
          "base_uri": "https://localhost:8080/"
        },
        "outputId": "b23a33d7-f4b4-4faf-acb6-77202806372c"
      },
      "outputs": [
        {
          "output_type": "stream",
          "name": "stdout",
          "text": [
            "+----------+---------+\n",
            "|date_built|avg_price|\n",
            "+----------+---------+\n",
            "|2019      |300263.7 |\n",
            "|2020      |298353.78|\n",
            "|2021      |301819.44|\n",
            "|2022      |296363.88|\n",
            "+----------+---------+\n",
            "\n"
          ]
        }
      ],
      "source": [
        "# 3. What is the average price for a four bedroom house sold per year, rounded to two decimal places?\n",
        "# Convert columns to correct data types (e.g., price and year built)\n",
        "from pyspark.sql.functions import year, round\n",
        "\n",
        "# Convert columns to correct data types\n",
        "df = df.withColumn(\"price\", df[\"price\"].cast(\"float\"))\n",
        "df = df.withColumn(\"bedrooms\", df[\"bedrooms\"].cast(\"int\"))\n",
        "df = df.withColumn(\"date_built\", year(df[\"date\"]).cast(\"int\"))\n",
        "\n",
        "# Query: Average price for 4 bedroom houses sold per year\n",
        "avg_price_4_bedrooms = df.filter(df[\"bedrooms\"] == 4) \\\n",
        "                          .groupBy(\"date_built\") \\\n",
        "                          .avg(\"price\") \\\n",
        "                          .withColumnRenamed(\"avg(price)\", \"avg_price\") \\\n",
        "                          .orderBy(\"date_built\")\n",
        "\n",
        "# Show the results, rounding to 2 decimal places\n",
        "avg_price_4_bedrooms = avg_price_4_bedrooms.withColumn(\"avg_price\",\n",
        "                                                     avg_price_4_bedrooms[\"avg_price\"].cast(\"float\"))\n",
        "\n",
        "avg_price_4_bedrooms.show(truncate=False)\n"
      ]
    },
    {
      "cell_type": "code",
      "execution_count": null,
      "metadata": {
        "id": "l8p_tUS8h8it",
        "colab": {
          "base_uri": "https://localhost:8080/"
        },
        "outputId": "df4fa2eb-6b8f-42de-bfd4-9edb20c6d7f0"
      },
      "outputs": [
        {
          "output_type": "stream",
          "name": "stdout",
          "text": [
            "+----------+---------+\n",
            "|date_built|avg_price|\n",
            "+----------+---------+\n",
            "|2019      |287287.82|\n",
            "|2020      |294204.16|\n",
            "|2021      |294211.46|\n",
            "|2022      |292725.69|\n",
            "+----------+---------+\n",
            "\n"
          ]
        }
      ],
      "source": [
        "# 4. What is the average price of a home for each year the home was built,\n",
        "# that have 3 bedrooms and 3 bathrooms, rounded to two decimal places?\n",
        "\n",
        "avg_price_3_bedrooms_3_bathrooms = df.filter((df[\"bedrooms\"] == 3) & (df[\"bathrooms\"] == 3)) \\\n",
        "                                      .groupBy(\"date_built\") \\\n",
        "                                      .avg(\"price\") \\\n",
        "                                      .withColumnRenamed(\"avg(price)\", \"avg_price\") \\\n",
        "                                      .orderBy(\"date_built\")\n",
        "\n",
        "# Round the average price to 2 decimal places\n",
        "avg_price_3_bedrooms_3_bathrooms = avg_price_3_bedrooms_3_bathrooms.withColumn(\"avg_price\",\n",
        "                                                                             round(avg_price_3_bedrooms_3_bathrooms[\"avg_price\"], 2))\n",
        "\n",
        "# Show the result\n",
        "avg_price_3_bedrooms_3_bathrooms.show(truncate=False)\n"
      ]
    },
    {
      "cell_type": "code",
      "execution_count": null,
      "metadata": {
        "id": "Y-Eytz64liDU",
        "colab": {
          "base_uri": "https://localhost:8080/"
        },
        "outputId": "51ea78ca-90ef-43e5-e542-9ff8cccb178e"
      },
      "outputs": [
        {
          "output_type": "stream",
          "name": "stdout",
          "text": [
            "+----------+---------+\n",
            "|date_built|avg_price|\n",
            "+----------+---------+\n",
            "|2019      |289859.14|\n",
            "|2020      |292289.09|\n",
            "|2021      |296330.96|\n",
            "|2022      |290242.99|\n",
            "+----------+---------+\n",
            "\n"
          ]
        }
      ],
      "source": [
        "# 5. What is the average price of a home for each year the home was built,\n",
        "# that have 3 bedrooms, 3 bathrooms, with two floors,\n",
        "# and are greater than or equal to 2,000 square feet, rounded to two decimal places?\n",
        "avg_price_criteria = df.filter((df[\"bedrooms\"] == 3) &\n",
        "                               (df[\"bathrooms\"] == 3) &\n",
        "                               (df[\"floors\"] == 2) &\n",
        "                               (df[\"sqft_living\"] >= 2000)) \\\n",
        "                      .groupBy(\"date_built\") \\\n",
        "                      .avg(\"price\") \\\n",
        "                      .withColumnRenamed(\"avg(price)\", \"avg_price\") \\\n",
        "                      .orderBy(\"date_built\")\n",
        "\n",
        "# Round the average price to 2 decimal places\n",
        "avg_price_criteria = avg_price_criteria.withColumn(\"avg_price\",\n",
        "                                                  round(avg_price_criteria[\"avg_price\"], 2))\n",
        "\n",
        "# Show the result\n",
        "avg_price_criteria.show(truncate=False)\n"
      ]
    },
    {
      "cell_type": "code",
      "execution_count": null,
      "metadata": {
        "colab": {
          "base_uri": "https://localhost:8080/"
        },
        "id": "GUrfgOX1pCRd",
        "outputId": "20bc9cc7-16d5-4fea-ac1d-ddecacc6b12f"
      },
      "outputs": [
        {
          "output_type": "stream",
          "name": "stdout",
          "text": [
            "+----+----------+\n",
            "|view|avg_price |\n",
            "+----+----------+\n",
            "|100 |1026669.5 |\n",
            "|99  |1061201.42|\n",
            "|98  |1053739.33|\n",
            "|97  |1129040.15|\n",
            "|96  |1017815.92|\n",
            "|95  |1054325.6 |\n",
            "|94  |1033536.2 |\n",
            "|93  |1026006.06|\n",
            "|92  |970402.55 |\n",
            "|91  |1137372.73|\n",
            "|90  |1062654.16|\n",
            "|89  |1107839.15|\n",
            "|88  |1031719.35|\n",
            "|87  |1072285.2 |\n",
            "|86  |1070444.25|\n",
            "|85  |1056336.74|\n",
            "|84  |1117233.13|\n",
            "|83  |1033965.93|\n",
            "|82  |1063498.0 |\n",
            "|81  |1053472.79|\n",
            "+----+----------+\n",
            "only showing top 20 rows\n",
            "\n",
            "--- 0.8906331062316895 seconds ---\n"
          ]
        }
      ],
      "source": [
        "# 6. What is the average price of a home per \"view\" rating, rounded to two decimal places,\n",
        "# having an average home price greater than or equal to $350,000? Order by descending view rating.\n",
        "# Although this is a small dataset, determine the run time for this query.\n",
        "\n",
        "start_time = time.time()\n",
        "\n",
        "df = df.withColumn(\"view\", df[\"view\"].cast(\"int\"))\n",
        "\n",
        "avg_price_per_view = df.groupBy(\"view\") \\\n",
        "                       .avg(\"price\") \\\n",
        "                       .withColumnRenamed(\"avg(price)\", \"avg_price\") \\\n",
        "                       .filter(\"avg_price >= 350000\") \\\n",
        "                       .orderBy(\"view\", ascending=False)\n",
        "\n",
        "\n",
        "# Round the average price to 2 decimal places\n",
        "avg_price_per_view = avg_price_per_view.withColumn(\"avg_price\",\n",
        "                                                  round(avg_price_per_view[\"avg_price\"], 2))\n",
        "\n",
        "# Show the result\n",
        "avg_price_per_view.show(truncate=False)\n",
        "\n",
        "print(\"--- %s seconds ---\" % (time.time() - start_time))"
      ]
    },
    {
      "cell_type": "code",
      "execution_count": null,
      "metadata": {
        "id": "KAhk3ZD2tFy8"
      },
      "outputs": [],
      "source": [
        "# 7. Cache the the temporary table home_sales.\n",
        "df.cache()\n",
        "df.createOrReplaceTempView(\"home_sales\")"
      ]
    },
    {
      "cell_type": "code",
      "execution_count": null,
      "metadata": {
        "id": "4opVhbvxtL-i",
        "colab": {
          "base_uri": "https://localhost:8080/"
        },
        "outputId": "fb78aca1-8bba-4b16-ff45-a19b5cfaa723"
      },
      "outputs": [
        {
          "output_type": "execute_result",
          "data": {
            "text/plain": [
              "True"
            ]
          },
          "metadata": {},
          "execution_count": 42
        }
      ],
      "source": [
        "# 8. Check if the table is cached.\n",
        "spark.catalog.isCached('home_sales')"
      ]
    },
    {
      "cell_type": "code",
      "execution_count": null,
      "metadata": {
        "colab": {
          "base_uri": "https://localhost:8080/"
        },
        "id": "5GnL46lwTSEk",
        "outputId": "2c53f94c-fa05-4c2c-b325-593649d52c51"
      },
      "outputs": [
        {
          "output_type": "stream",
          "name": "stdout",
          "text": [
            "+----+----------+\n",
            "|view|avg_price |\n",
            "+----+----------+\n",
            "|100 |1026669.5 |\n",
            "|99  |1061201.42|\n",
            "|98  |1053739.33|\n",
            "|97  |1129040.15|\n",
            "|96  |1017815.92|\n",
            "|95  |1054325.6 |\n",
            "|94  |1033536.2 |\n",
            "|93  |1026006.06|\n",
            "|92  |970402.55 |\n",
            "|91  |1137372.73|\n",
            "|90  |1062654.16|\n",
            "|89  |1107839.15|\n",
            "|88  |1031719.35|\n",
            "|87  |1072285.2 |\n",
            "|86  |1070444.25|\n",
            "|85  |1056336.74|\n",
            "|84  |1117233.13|\n",
            "|83  |1033965.93|\n",
            "|82  |1063498.0 |\n",
            "|81  |1053472.79|\n",
            "+----+----------+\n",
            "only showing top 20 rows\n",
            "\n",
            "--- 2.202061653137207 seconds ---\n"
          ]
        }
      ],
      "source": [
        "# 9. Using the cached data, run the last query above, that calculates\n",
        "# the average price of a home per \"view\" rating, rounded to two decimal places,\n",
        "# having an average home price greater than or equal to $350,000.\n",
        "# Determine the runtime and compare it to the uncached runtime.\n",
        "\n",
        "start_time = time.time()\n",
        "\n",
        "avg_price_per_view_cached = spark.sql(\"\"\"\n",
        "    SELECT view, ROUND(AVG(price), 2) AS avg_price\n",
        "    FROM home_sales\n",
        "    GROUP BY view\n",
        "    HAVING avg_price >= 350000\n",
        "    ORDER BY view DESC\n",
        "\"\"\")\n",
        "\n",
        "avg_price_per_view_cached.show(truncate=False)\n",
        "\n",
        "print(\"--- %s seconds ---\" % (time.time() - start_time))\n"
      ]
    },
    {
      "cell_type": "code",
      "execution_count": null,
      "metadata": {
        "id": "Qm12WN9isHBR"
      },
      "outputs": [],
      "source": [
        "# 10. Partition by the \"date_built\" field on the formatted parquet home sales data\n",
        "df.write.partitionBy(\"date_built\").parquet(\"/content/home_sales_parquet\")"
      ]
    },
    {
      "cell_type": "code",
      "execution_count": null,
      "metadata": {
        "id": "AZ7BgY61sRqY"
      },
      "outputs": [],
      "source": [
        "# 11. Read the parquet formatted data.\n",
        "parquet_df = spark.read.parquet(\"/content/home_sales_parquet\")"
      ]
    },
    {
      "cell_type": "code",
      "execution_count": null,
      "metadata": {
        "id": "J6MJkHfvVcvh"
      },
      "outputs": [],
      "source": [
        "# 12. Create a temporary table for the parquet data.\n",
        "parquet_df.createOrReplaceTempView(\"home_sales_parquet\")"
      ]
    },
    {
      "cell_type": "code",
      "execution_count": null,
      "metadata": {
        "colab": {
          "base_uri": "https://localhost:8080/"
        },
        "id": "G_Vhb52rU1Sn",
        "outputId": "5678206b-5360-4328-8df8-48a26e2d472a"
      },
      "outputs": [
        {
          "output_type": "stream",
          "name": "stdout",
          "text": [
            "+----+----------+\n",
            "|view|avg_price |\n",
            "+----+----------+\n",
            "|100 |1026669.5 |\n",
            "|99  |1061201.42|\n",
            "|98  |1053739.33|\n",
            "|97  |1129040.15|\n",
            "|96  |1017815.92|\n",
            "|95  |1054325.6 |\n",
            "|94  |1033536.2 |\n",
            "|93  |1026006.06|\n",
            "|92  |970402.55 |\n",
            "|91  |1137372.73|\n",
            "|90  |1062654.16|\n",
            "|89  |1107839.15|\n",
            "|88  |1031719.35|\n",
            "|87  |1072285.2 |\n",
            "|86  |1070444.25|\n",
            "|85  |1056336.74|\n",
            "|84  |1117233.13|\n",
            "|83  |1033965.93|\n",
            "|82  |1063498.0 |\n",
            "|81  |1053472.79|\n",
            "+----+----------+\n",
            "only showing top 20 rows\n",
            "\n",
            "--- 0.9970824718475342 seconds ---\n"
          ]
        }
      ],
      "source": [
        "# 13. Using the parquet DataFrame, run the last query above, that calculates\n",
        "# the average price of a home per \"view\" rating, rounded to two decimal places,\n",
        "# having an average home price greater than or equal to $350,000.\n",
        "# Determine the runtime and compare it to the cached runtime.\n",
        "\n",
        "start_time = time.time()\n",
        "\n",
        "avg_price_per_view_parquet = spark.sql(\"\"\"\n",
        "    SELECT view, ROUND(AVG(price), 2) AS avg_price\n",
        "    FROM home_sales_parquet\n",
        "    GROUP BY view\n",
        "    HAVING avg_price >= 350000\n",
        "    ORDER BY view DESC\n",
        "\"\"\")\n",
        "\n",
        "avg_price_per_view_parquet.show(truncate=False)\n",
        "\n",
        "print(\"--- %s seconds ---\" % (time.time() - start_time))"
      ]
    },
    {
      "cell_type": "code",
      "execution_count": null,
      "metadata": {
        "id": "hjjYzQGjtbq8",
        "colab": {
          "base_uri": "https://localhost:8080/"
        },
        "outputId": "31ff10d4-22b9-4767-a603-63fbb76b3546"
      },
      "outputs": [
        {
          "output_type": "execute_result",
          "data": {
            "text/plain": [
              "DataFrame[]"
            ]
          },
          "metadata": {},
          "execution_count": 48
        }
      ],
      "source": [
        "# 14. Uncache the home_sales temporary table.\n",
        "spark.sql(\"uncache table home_sales\")"
      ]
    },
    {
      "cell_type": "code",
      "execution_count": null,
      "metadata": {
        "id": "Sy9NBvO7tlmm",
        "colab": {
          "base_uri": "https://localhost:8080/"
        },
        "outputId": "5abe1b22-4c1d-40e8-d383-65aa823f6f85"
      },
      "outputs": [
        {
          "output_type": "execute_result",
          "data": {
            "text/plain": [
              "False"
            ]
          },
          "metadata": {},
          "execution_count": 49
        }
      ],
      "source": [
        "# 15. Check if the home_sales is no longer cached\n",
        "spark.catalog.isCached(\"home_sales\")\n"
      ]
    },
    {
      "cell_type": "code",
      "execution_count": null,
      "metadata": {
        "id": "Si-BNruRUGK3"
      },
      "outputs": [],
      "source": []
    }
  ],
  "metadata": {
    "colab": {
      "provenance": []
    },
    "gpuClass": "standard",
    "kernelspec": {
      "display_name": "Python 3 (ipykernel)",
      "language": "python",
      "name": "python3"
    },
    "language_info": {
      "codemirror_mode": {
        "name": "ipython",
        "version": 3
      },
      "file_extension": ".py",
      "mimetype": "text/x-python",
      "name": "python",
      "nbconvert_exporter": "python",
      "pygments_lexer": "ipython3",
      "version": "3.10.4"
    },
    "nteract": {
      "version": "0.28.0"
    }
  },
  "nbformat": 4,
  "nbformat_minor": 0
}